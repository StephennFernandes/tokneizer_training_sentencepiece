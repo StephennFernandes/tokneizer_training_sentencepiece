{
 "cells": [
  {
   "cell_type": "code",
   "execution_count": 1,
   "metadata": {},
   "outputs": [],
   "source": [
    "import sentencepiece as spm"
   ]
  },
  {
   "cell_type": "code",
   "execution_count": 2,
   "metadata": {},
   "outputs": [],
   "source": [
    "spm_model = spm.SentencePieceProcessor(model_file='HI_ALL_VOCAB_32000_UNIGRAM.model')"
   ]
  },
  {
   "cell_type": "code",
   "execution_count": 5,
   "metadata": {},
   "outputs": [
    {
     "data": {
      "text/plain": [
       "['▁हम',\n",
       " '▁ह',\n",
       " 'ों',\n",
       " 'गे',\n",
       " '▁क',\n",
       " 'ा',\n",
       " 'मय',\n",
       " 'ाब',\n",
       " '▁',\n",
       " 'एक',\n",
       " '▁प्र',\n",
       " 'तिर',\n",
       " 'ो',\n",
       " 'ध',\n",
       " '▁',\n",
       " 'गीत',\n",
       " '▁',\n",
       " 'है',\n",
       " '।']"
      ]
     },
     "execution_count": 5,
     "metadata": {},
     "output_type": "execute_result"
    }
   ],
   "source": [
    "spm_model.encode('हम होंगे कामयाब एक प्रतिरोध गीत है।', out_type=str, enable_sampling=True, alpha=0.1, nbest_size=-1)"
   ]
  },
  {
   "cell_type": "code",
   "execution_count": 6,
   "metadata": {},
   "outputs": [
    {
     "data": {
      "text/plain": [
       "[87, 496, 3318, 20, 7255, 1620, 6, 8]"
      ]
     },
     "execution_count": 6,
     "metadata": {},
     "output_type": "execute_result"
    }
   ],
   "source": [
    "spm_model.encode('हम होंगे कामयाब एक प्रतिरोध गीत है।')"
   ]
  },
  {
   "cell_type": "code",
   "execution_count": null,
   "metadata": {},
   "outputs": [],
   "source": []
  }
 ],
 "metadata": {
  "kernelspec": {
   "display_name": "Python 3.10.4 64-bit",
   "language": "python",
   "name": "python3"
  },
  "language_info": {
   "codemirror_mode": {
    "name": "ipython",
    "version": 3
   },
   "file_extension": ".py",
   "mimetype": "text/x-python",
   "name": "python",
   "nbconvert_exporter": "python",
   "pygments_lexer": "ipython3",
   "version": "3.8.10"
  },
  "orig_nbformat": 4,
  "vscode": {
   "interpreter": {
    "hash": "916dbcbb3f70747c44a77c7bcd40155683ae19c65e1c03b4aa3499c5328201f1"
   }
  }
 },
 "nbformat": 4,
 "nbformat_minor": 2
}
